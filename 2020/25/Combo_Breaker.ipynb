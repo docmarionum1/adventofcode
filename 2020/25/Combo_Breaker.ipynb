{
  "nbformat": 4,
  "nbformat_minor": 0,
  "metadata": {
    "colab": {
      "name": "Combo Breaker",
      "provenance": []
    },
    "kernelspec": {
      "name": "python3",
      "display_name": "Python 3"
    }
  },
  "cells": [
    {
      "cell_type": "code",
      "metadata": {
        "id": "8QnBSFNEQlqv"
      },
      "source": [
        "# Test\n",
        "card_public_key = 5764801\n",
        "door_public_key = 17807724"
      ],
      "execution_count": null,
      "outputs": []
    },
    {
      "cell_type": "code",
      "metadata": {
        "id": "zWNNGwafQSfr"
      },
      "source": [
        "card_public_key = 19774466\n",
        "door_public_key = 7290641"
      ],
      "execution_count": null,
      "outputs": []
    },
    {
      "cell_type": "code",
      "metadata": {
        "colab": {
          "base_uri": "https://localhost:8080/"
        },
        "id": "x4fcDrc6QrCE",
        "outputId": "fb0811b4-d562-4683-f170-72f5db8b7101"
      },
      "source": [
        "def get_loops(target):\n",
        "  i = 0\n",
        "  value = 1\n",
        "  subject_number = 7\n",
        "  while value != target:\n",
        "    value = (value * subject_number) % 20201227\n",
        "    i += 1\n",
        "\n",
        "  return i\n",
        "\n",
        "def get_encryption_key(public_key, loops):\n",
        "  value = 1\n",
        "  for i in range(loops):\n",
        "    value = (value * public_key) % 20201227\n",
        "\n",
        "  return value\n",
        "\n",
        "card_loops = get_loops(card_public_key)\n",
        "get_encryption_key(door_public_key, card_loops)"
      ],
      "execution_count": null,
      "outputs": [
        {
          "output_type": "execute_result",
          "data": {
            "text/plain": [
              "19414467"
            ]
          },
          "metadata": {
            "tags": []
          },
          "execution_count": 15
        }
      ]
    },
    {
      "cell_type": "code",
      "metadata": {
        "id": "mvmDmA_KRJZU"
      },
      "source": [
        ""
      ],
      "execution_count": null,
      "outputs": []
    }
  ]
}