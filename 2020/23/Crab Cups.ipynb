{
 "cells": [
  {
   "cell_type": "code",
   "execution_count": 59,
   "metadata": {},
   "outputs": [
    {
     "data": {
      "text/plain": [
       "'59374826'"
      ]
     },
     "execution_count": 59,
     "metadata": {},
     "output_type": "execute_result"
    }
   ],
   "source": [
    "# Part 1\n",
    "cups = [int(i) for i in list('137826495')]\n",
    "\n",
    "min_label = min(cups)\n",
    "max_label = max(cups)\n",
    "\n",
    "current_cup = cups[0]\n",
    "\n",
    "for i in range(100):\n",
    "    current_cup_index = cups.index(current_cup)\n",
    "    removed_cup_index = (current_cup_index + 4) % len(cups)\n",
    "    if removed_cup_index < current_cup_index:\n",
    "        removed_cups = cups[current_cup_index+1:] + cups[:removed_cup_index]\n",
    "        cups = cups[removed_cup_index:current_cup_index+1]\n",
    "    else:\n",
    "        removed_cups = cups[current_cup_index+1:removed_cup_index]\n",
    "        cups = cups[:current_cup_index+1] + cups[removed_cup_index:]\n",
    "\n",
    "    destination_cup = current_cup - 1\n",
    "    while destination_cup not in cups:\n",
    "        destination_cup = destination_cup - 1\n",
    "        if destination_cup < min_label:\n",
    "            destination_cup = max_label\n",
    "    \n",
    "    destination_cup_index = (cups.index(destination_cup) + 1) % len(cups)\n",
    "    cups[destination_cup_index:destination_cup_index] = removed_cups\n",
    "    \n",
    "    current_cup_index = cups.index(current_cup)\n",
    "    current_cup = cups[(current_cup_index+1) % len(cups)]\n",
    "    \n",
    "i = cups.index(1)\n",
    "a = cups[i+1:] + cups[:i+1]\n",
    "''.join(str(i) for i in a[:-1])"
   ]
  },
  {
   "cell_type": "code",
   "execution_count": 60,
   "metadata": {},
   "outputs": [
    {
     "data": {
      "text/plain": [
       "66878091588"
      ]
     },
     "execution_count": 60,
     "metadata": {},
     "output_type": "execute_result"
    }
   ],
   "source": [
    "# Part 2\n",
    "\n",
    "cups = [int(i) for i in list('137826495')]\n",
    "cups = cups + list(range(max(cups)+1, 1000001))\n",
    "min_label = 1\n",
    "max_label = 1000000\n",
    "\n",
    "nodes = {}\n",
    "\n",
    "class Node:\n",
    "    def __init__(self, label):\n",
    "        self.label = label\n",
    "        self.next = None\n",
    "        \n",
    "for i in cups:\n",
    "    nodes[i] = Node(i)\n",
    "    \n",
    "for i in range(len(cups)):\n",
    "    n = nodes[cups[i]]\n",
    "    n.next = nodes[cups[(i+1) % len(cups)]]\n",
    "\n",
    "current_cup = nodes[cups[0]]\n",
    "\n",
    "for i in range(10000000):\n",
    "    removed_cups = current_cup.next\n",
    "    current_cup.next = removed_cups.next.next.next\n",
    "        \n",
    "    destination_cup_label = current_cup.label - 1\n",
    "    if destination_cup_label < min_label:\n",
    "        destination_cup_label = max_label\n",
    "        \n",
    "    while (\n",
    "        (destination_cup_label == removed_cups.label) or \n",
    "        (destination_cup_label == removed_cups.next.label) or \n",
    "        (destination_cup_label == removed_cups.next.next.label)\n",
    "    ):\n",
    "        destination_cup_label = destination_cup_label - 1\n",
    "        if destination_cup_label < min_label:\n",
    "            destination_cup_label = max_label\n",
    "\n",
    "    destination_cup = nodes[destination_cup_label]\n",
    "    removed_cups.next.next.next = destination_cup.next\n",
    "    destination_cup.next = removed_cups\n",
    "    \n",
    "    current_cup = current_cup.next\n",
    "\n",
    "nodes[1].next.label*nodes[1].next.next.label"
   ]
  },
  {
   "cell_type": "code",
   "execution_count": null,
   "metadata": {},
   "outputs": [],
   "source": []
  }
 ],
 "metadata": {
  "kernelspec": {
   "display_name": "Python 3",
   "language": "python",
   "name": "python3"
  },
  "language_info": {
   "codemirror_mode": {
    "name": "ipython",
    "version": 3
   },
   "file_extension": ".py",
   "mimetype": "text/x-python",
   "name": "python",
   "nbconvert_exporter": "python",
   "pygments_lexer": "ipython3",
   "version": "3.7.1"
  }
 },
 "nbformat": 4,
 "nbformat_minor": 2
}
