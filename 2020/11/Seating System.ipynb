{
 "cells": [
  {
   "cell_type": "code",
   "execution_count": 1,
   "metadata": {},
   "outputs": [],
   "source": [
    "import numpy as np"
   ]
  },
  {
   "cell_type": "code",
   "execution_count": 2,
   "metadata": {
    "scrolled": true
   },
   "outputs": [
    {
     "data": {
      "text/plain": [
       "array([['L', 'L', 'L', ..., 'L', 'L', 'L'],\n",
       "       ['L', 'L', 'L', ..., 'L', 'L', 'L'],\n",
       "       ['L', 'L', 'L', ..., 'L', 'L', 'L'],\n",
       "       ...,\n",
       "       ['.', 'L', 'L', ..., 'L', 'L', 'L'],\n",
       "       ['L', 'L', 'L', ..., 'L', 'L', 'L'],\n",
       "       ['L', 'L', 'L', ..., 'L', 'L', 'L']], dtype='<U1')"
      ]
     },
     "execution_count": 2,
     "metadata": {},
     "output_type": "execute_result"
    }
   ],
   "source": [
    "with open('input.txt') as f:\n",
    "    lines = [list(l.strip()) for l in f.readlines()]\n",
    "lines_original = np.array(lines)\n",
    "lines_original"
   ]
  },
  {
   "cell_type": "code",
   "execution_count": 3,
   "metadata": {},
   "outputs": [
    {
     "data": {
      "text/plain": [
       "2249"
      ]
     },
     "execution_count": 3,
     "metadata": {},
     "output_type": "execute_result"
    }
   ],
   "source": [
    "# Part 1\n",
    "\n",
    "def count_neighbors(a, i, j): \n",
    "    subarray = lines[np.max([j-1, 0]):j+2, np.max([i-1, 0]):i+2]\n",
    "\n",
    "    r = {\n",
    "        'L': (subarray == 'L').sum(),\n",
    "        '#': (subarray == '#').sum(),\n",
    "    }\n",
    "    r[lines[j,i]] -= 1\n",
    "    return r\n",
    "\n",
    "lines = np.array(lines_original)\n",
    "num_changed = -1\n",
    "while num_changed != 0:\n",
    "    num_changed = 0\n",
    "    new_lines = np.array(lines)\n",
    "\n",
    "    for i in range(lines.shape[1]):\n",
    "        for j in range(lines.shape[0]):\n",
    "            if lines[j][i] == '.':\n",
    "                continue\n",
    "            else:\n",
    "                counts = count_neighbors(lines, i, j)\n",
    "\n",
    "                if lines[j][i] == 'L':\n",
    "                    if counts['#'] == 0:\n",
    "                        new_lines[j][i] = '#'\n",
    "                        num_changed += 1\n",
    "                else:\n",
    "                    if counts['#'] >= 4:\n",
    "                        new_lines[j][i] = 'L'\n",
    "                        num_changed += 1\n",
    "                        \n",
    "    lines = new_lines\n",
    "    \n",
    "(new_lines == '#').sum()"
   ]
  },
  {
   "cell_type": "code",
   "execution_count": 4,
   "metadata": {},
   "outputs": [
    {
     "data": {
      "text/plain": [
       "2023"
      ]
     },
     "execution_count": 4,
     "metadata": {},
     "output_type": "execute_result"
    }
   ],
   "source": [
    "# Part 2\n",
    "\n",
    "def count_neighbors(a, i, j):\n",
    "    occ = 0\n",
    "    \n",
    "    subarrays = [\n",
    "        a[j,i+1:],\n",
    "        a[j+1:,i],\n",
    "        np.diagonal(a[j+1:,i+1:]),  \n",
    "    ]\n",
    "    \n",
    "    if i > 0:\n",
    "        subarrays.append(a[j,i-1::-1])\n",
    "        subarrays.append(np.diagonal(a[j+1:,i-1::-1]))\n",
    "    if j > 0:\n",
    "        subarrays.append(a[j-1::-1,i])\n",
    "        subarrays.append(np.diagonal(a[j-1::-1,i+1:]))\n",
    "        \n",
    "    if (i > 0) and (j > 0):\n",
    "        subarrays.append(np.diagonal(a[j-1::-1,i-1::-1]))\n",
    "    \n",
    "    for s in subarrays:\n",
    "        #print(s)\n",
    "        if len(s[s != '.']) and s[s != '.'][0] == '#':\n",
    "            occ += 1\n",
    "    \n",
    "    return occ\n",
    "\n",
    "lines = np.array(lines_original)\n",
    "num_changed = -1\n",
    "while num_changed != 0:\n",
    "    num_changed = 0\n",
    "    new_lines = np.array(lines)\n",
    "\n",
    "    for i in range(lines.shape[1]):\n",
    "        for j in range(lines.shape[0]):\n",
    "            if lines[j][i] == '.':\n",
    "                continue\n",
    "            else:\n",
    "                counts = count_neighbors(lines, i, j)\n",
    "\n",
    "                if lines[j][i] == 'L':\n",
    "                    if counts == 0:\n",
    "                        new_lines[j][i] = '#'\n",
    "                        num_changed += 1\n",
    "                else:\n",
    "                    if counts >= 5:\n",
    "                        new_lines[j][i] = 'L'\n",
    "                        num_changed += 1\n",
    "                        \n",
    "    lines = new_lines\n",
    "    \n",
    "(new_lines == '#').sum()"
   ]
  }
 ],
 "metadata": {
  "kernelspec": {
   "display_name": "Python 3",
   "language": "python",
   "name": "python3"
  },
  "language_info": {
   "codemirror_mode": {
    "name": "ipython",
    "version": 3
   },
   "file_extension": ".py",
   "mimetype": "text/x-python",
   "name": "python",
   "nbconvert_exporter": "python",
   "pygments_lexer": "ipython3",
   "version": "3.7.1"
  }
 },
 "nbformat": 4,
 "nbformat_minor": 2
}
