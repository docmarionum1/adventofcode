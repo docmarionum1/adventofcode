{
 "cells": [
  {
   "cell_type": "code",
   "execution_count": 1,
   "metadata": {},
   "outputs": [
    {
     "data": {
      "text/plain": [
       "456-element Array{SubString{String},1}:\n",
       " \"tr\\nrt\\ntr\\nrt\\ntr\"\n",
       " \"fdrhu\\ngwuksvro\"\n",
       " \"tesnouwyrdf\\ntwofuspcmvenh\"\n",
       " \"cnxpsmuqiaw\\ncxovminqpawus\\nqwaxjmupnsic\"\n",
       " \"anpskchzojyeguwr\\nsoqauprxzgmycvef\\nsorplgezycau\\nngrecposyizwau\\nayeptrilsnguzco\"\n",
       " \"mvwcl\\nvlcwxm\\nuwcflhpkjor\\nblnvwtic\\nwcmzl\"\n",
       " \"hyvowmqzixc\\nlacsrjdyxiz\\nfyczpbxlti\"\n",
       " \"qxjhrgefbkm\\neqrgbfhjxkcm\"\n",
       " \"catsrkyjulmfzvixe\\nteyxvimulfkczqrjsa\\nxrtlyaqemsucjzkifv\\ndrjlmncsiftxaeyzvpuk\"\n",
       " \"ocgrnldhja\\njicwgntvuhk\\ncxgajhln\"\n",
       " \"hczyoipegqwsubvxma\\nzapvqdbyeiulmrsx\\nqmuxbtispezvayk\\nibpqvsxaueymzr\\njpzavtxymusibeq\"\n",
       " \"iomtep\\nobmfpitqde\\nhrmoiept\\niprtomeh\"\n",
       " \"dvqtfm\\nvfqdmt\\nvfmqtd\"\n",
       " ⋮\n",
       " \"ab\\nmb\\nbh\"\n",
       " \"fjgwbhceioxmsz\\nzejxhbmtocgfdw\\neblapcygxwvzhofmj\\ngmxfhjzcewbo\"\n",
       " \"fhpqtjzdeyluwnogm\\nduemozjhlpqnwfygt\\nzfmewnhqdpgjoytul\\neofygnuphwjmlqztd\"\n",
       " \"wva\\noevfabqwd\\nkvawg\"\n",
       " \"gxprowhvytbiamfcjesu\\nexcvhbsujfatrpmwgi\"\n",
       " \"xylsrgiecwzpaoj\\nvbscjyqre\"\n",
       " \"pjcltyis\\npsiclt\\ncstiklp\\nhisapclt\"\n",
       " \"lq\\nv\\nv\\nvq\\np\"\n",
       " \"m\\nm\\nm\\nm\\nm\"\n",
       " \"fzhuvrqsonwdcmgibj\\ndqibvhgfrmnjcuwsz\\ngkfvsznchrybwilejqdu\\nrdibnqwfzghucjvs\"\n",
       " \"juqckrl\\nojlhsyfcn\"\n",
       " \"jngdhxfesqzwcptlmvb\\ntlpyhvnoxsagwmqrdzcue\\n\""
      ]
     },
     "execution_count": 1,
     "metadata": {},
     "output_type": "execute_result"
    }
   ],
   "source": [
    "# Reading as a whole string\n",
    "\n",
    "s = open(\"input.txt\") do file\n",
    "    read(file, String)\n",
    "end\n",
    "\n",
    "groups = split(s, \"\\n\\n\")"
   ]
  },
  {
   "cell_type": "code",
   "execution_count": 2,
   "metadata": {},
   "outputs": [
    {
     "data": {
      "text/plain": [
       "6310"
      ]
     },
     "execution_count": 2,
     "metadata": {},
     "output_type": "execute_result"
    }
   ],
   "source": [
    "# Part 1\n",
    "sum(length(Dict(c => true for c in replace(group, \"\\n\" => \"\"))) for group in groups)"
   ]
  },
  {
   "cell_type": "code",
   "execution_count": 3,
   "metadata": {
    "scrolled": true
   },
   "outputs": [
    {
     "data": {
      "text/plain": [
       "3193.0"
      ]
     },
     "execution_count": 3,
     "metadata": {},
     "output_type": "execute_result"
    }
   ],
   "source": [
    "# Part 2\n",
    "\n",
    "function c(group)\n",
    "    group = strip(group)\n",
    "    answers = Dict(c => 0 for c in replace(group, \"\\n\" => \"\"))\n",
    "    members = split(group, \"\\n\")\n",
    "    for char in replace(group, \"\\n\" => \"\")\n",
    "        answers[char] = answers[char] + 1\n",
    "    end\n",
    "\n",
    "    return sum(Iterators.filter(count -> count == length(members), values(answers))) / length(members)\n",
    "end\n",
    "\n",
    "sum(c(group) for group in groups)"
   ]
  },
  {
   "cell_type": "code",
   "execution_count": null,
   "metadata": {},
   "outputs": [],
   "source": []
  }
 ],
 "metadata": {
  "kernelspec": {
   "display_name": "Julia 1.5.3",
   "language": "julia",
   "name": "julia-1.5"
  },
  "language_info": {
   "file_extension": ".jl",
   "mimetype": "application/julia",
   "name": "julia",
   "version": "1.5.3"
  }
 },
 "nbformat": 4,
 "nbformat_minor": 2
}
