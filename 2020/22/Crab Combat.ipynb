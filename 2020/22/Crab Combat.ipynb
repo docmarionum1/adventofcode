{
 "cells": [
  {
   "cell_type": "code",
   "execution_count": 41,
   "metadata": {
    "scrolled": true
   },
   "outputs": [
    {
     "data": {
      "text/plain": [
       "['Player 1:\\n',\n",
       " '18\\n',\n",
       " '50\\n',\n",
       " '9\\n',\n",
       " '4\\n',\n",
       " '25\\n',\n",
       " '37\\n',\n",
       " '39\\n',\n",
       " '40\\n',\n",
       " '29\\n',\n",
       " '6\\n',\n",
       " '41\\n',\n",
       " '28\\n',\n",
       " '3\\n',\n",
       " '11\\n',\n",
       " '31\\n',\n",
       " '8\\n',\n",
       " '1\\n',\n",
       " '38\\n',\n",
       " '33\\n',\n",
       " '30\\n',\n",
       " '42\\n',\n",
       " '15\\n',\n",
       " '26\\n',\n",
       " '36\\n',\n",
       " '43\\n',\n",
       " '\\n',\n",
       " 'Player 2:\\n',\n",
       " '32\\n',\n",
       " '44\\n',\n",
       " '19\\n',\n",
       " '47\\n',\n",
       " '12\\n',\n",
       " '48\\n',\n",
       " '14\\n',\n",
       " '2\\n',\n",
       " '13\\n',\n",
       " '10\\n',\n",
       " '35\\n',\n",
       " '45\\n',\n",
       " '34\\n',\n",
       " '7\\n',\n",
       " '5\\n',\n",
       " '17\\n',\n",
       " '46\\n',\n",
       " '21\\n',\n",
       " '24\\n',\n",
       " '49\\n',\n",
       " '16\\n',\n",
       " '22\\n',\n",
       " '20\\n',\n",
       " '27\\n',\n",
       " '23\\n']"
      ]
     },
     "execution_count": 41,
     "metadata": {},
     "output_type": "execute_result"
    }
   ],
   "source": [
    "with open('input.txt') as f:\n",
    "    lines = f.readlines()\n",
    "lines"
   ]
  },
  {
   "cell_type": "code",
   "execution_count": 42,
   "metadata": {},
   "outputs": [],
   "source": [
    "i = 1\n",
    "player_1_o = []\n",
    "player_2_o = []\n",
    "\n",
    "while lines[i] != '\\n':\n",
    "    player_1_o.append(int(lines[i]))\n",
    "    i += 1\n",
    "    \n",
    "i+= 2\n",
    "\n",
    "while i < len(lines):\n",
    "    player_2_o.append(int(lines[i]))\n",
    "    i += 1"
   ]
  },
  {
   "cell_type": "code",
   "execution_count": 43,
   "metadata": {},
   "outputs": [
    {
     "name": "stdout",
     "output_type": "stream",
     "text": [
      "1 33561\n",
      "2 0\n"
     ]
    }
   ],
   "source": [
    "# Part 1\n",
    "\n",
    "player_1 = player_1_o[:]\n",
    "player_2 = player_2_o[:]\n",
    "\n",
    "while player_1 and player_2:\n",
    "    card_1 = player_1.pop(0)\n",
    "    card_2 = player_2.pop(0)\n",
    "    \n",
    "    if card_1 > card_2:\n",
    "        player_1 = player_1 + [card_1, card_2]\n",
    "    else:\n",
    "        player_2 = player_2 + [card_2, card_1]\n",
    "        \n",
    "print('1', sum([(i+1)*c for i,c in enumerate(player_1[::-1])]))\n",
    "print('2', sum([(i+1)*c for i,c in enumerate(player_2[::-1])]))"
   ]
  },
  {
   "cell_type": "code",
   "execution_count": 45,
   "metadata": {},
   "outputs": [
    {
     "data": {
      "text/plain": [
       "('p1', 34594)"
      ]
     },
     "execution_count": 45,
     "metadata": {},
     "output_type": "execute_result"
    }
   ],
   "source": [
    "# Part 2\n",
    "def score(p):\n",
    "    return sum([(i+1)*c for i,c in enumerate(p[::-1])])\n",
    "\n",
    "def combat(p1, p2):\n",
    "    memo = {}\n",
    "    \n",
    "    while p1 and p2:\n",
    "        if (tuple(p1), tuple(p2)) in memo:\n",
    "            return \"p1\", score(p1)\n",
    "        memo[(tuple(p1), tuple(p2))] = True\n",
    "        \n",
    "        card_1 = p1.pop(0)\n",
    "        card_2 = p2.pop(0)\n",
    "        \n",
    "        if card_1 <= len(p1) and card_2 <= len(p2):\n",
    "            winner, s = combat(p1[:card_1], p2[:card_2])\n",
    "        else:\n",
    "            if card_1 > card_2:\n",
    "                winner = \"p1\"\n",
    "            else:\n",
    "                winner = \"p2\"\n",
    "                          \n",
    "        if winner == \"p1\":\n",
    "            p1 = p1 + [card_1, card_2]\n",
    "        else:\n",
    "            p2 = p2 + [card_2, card_1]\n",
    "            \n",
    "    if p1:\n",
    "        return \"p1\", score(p1)\n",
    "    else:\n",
    "        return \"p2\", score(p2)\n",
    "    \n",
    "combat(player_1_o[:], player_2_o[:])"
   ]
  },
  {
   "cell_type": "code",
   "execution_count": null,
   "metadata": {},
   "outputs": [],
   "source": []
  }
 ],
 "metadata": {
  "kernelspec": {
   "display_name": "Python 3",
   "language": "python",
   "name": "python3"
  },
  "language_info": {
   "codemirror_mode": {
    "name": "ipython",
    "version": 3
   },
   "file_extension": ".py",
   "mimetype": "text/x-python",
   "name": "python",
   "nbconvert_exporter": "python",
   "pygments_lexer": "ipython3",
   "version": "3.7.1"
  }
 },
 "nbformat": 4,
 "nbformat_minor": 2
}
