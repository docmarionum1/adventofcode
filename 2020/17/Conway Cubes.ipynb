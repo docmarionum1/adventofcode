{
 "cells": [
  {
   "cell_type": "code",
   "execution_count": 2,
   "metadata": {},
   "outputs": [],
   "source": [
    "import numpy as np"
   ]
  },
  {
   "cell_type": "code",
   "execution_count": 57,
   "metadata": {},
   "outputs": [
    {
     "data": {
      "text/plain": [
       "array([[1, 1, 1, 1, 1, 0, 0, 0],\n",
       "       [0, 1, 0, 0, 1, 1, 0, 0],\n",
       "       [1, 1, 0, 1, 1, 0, 1, 1],\n",
       "       [0, 0, 0, 1, 1, 1, 1, 0],\n",
       "       [1, 0, 1, 0, 0, 0, 1, 1],\n",
       "       [0, 1, 1, 0, 0, 0, 1, 0],\n",
       "       [0, 1, 0, 1, 0, 1, 1, 1],\n",
       "       [1, 0, 1, 0, 1, 0, 0, 1]])"
      ]
     },
     "execution_count": 57,
     "metadata": {},
     "output_type": "execute_result"
    }
   ],
   "source": [
    "with open('input.txt') as f:\n",
    "    lines = f.readlines()\n",
    "start = np.array([[1 if c == '#' else 0 for c in l.strip()] for l in lines])\n",
    "start"
   ]
  },
  {
   "cell_type": "code",
   "execution_count": 50,
   "metadata": {},
   "outputs": [],
   "source": [
    "# Part 1\n",
    "\n",
    "num_cycles = 6\n",
    "grid = np.zeros((start.shape[0]+num_cycles*2, start.shape[1]+num_cycles*2, 1+num_cycles*2))\n",
    "grid[num_cycles:num_cycles+len(start),num_cycles:num_cycles+len(start),num_cycles] = start\n",
    "\n",
    "def new_value(a, i, j, k):\n",
    "    current = a[i,j,k]\n",
    "    s = a[\n",
    "        np.max([i-1, 0]):i+2,\n",
    "        np.max([j-1, 0]):j+2,\n",
    "        np.max([k-1, 0]):k+2,\n",
    "    ].sum() - current\n",
    "    \n",
    "    if current == 0:\n",
    "        if s == 3:\n",
    "            return 1\n",
    "        return 0\n",
    "    else:\n",
    "        if s == 2 or s == 3:\n",
    "            return 1\n",
    "        return 0\n",
    "    \n",
    "    \n",
    "for c in range(6):\n",
    "    new_grid = grid.copy()\n",
    "    for i in range(grid.shape[0]):\n",
    "        for j in range(grid.shape[1]):\n",
    "            for k in range(grid.shape[2]):\n",
    "                new_grid[i,j,k] = new_value(grid, i, j, k)\n",
    "                \n",
    "    grid = new_grid\n",
    "    \n",
    "new_grid.sum()"
   ]
  },
  {
   "cell_type": "code",
   "execution_count": null,
   "metadata": {},
   "outputs": [],
   "source": [
    "# Part 2\n",
    "\n",
    "num_cycles = 6\n",
    "grid = np.zeros((start.shape[0]+num_cycles*2, start.shape[1]+num_cycles*2, 1+num_cycles*2, 1+num_cycles*2))\n",
    "grid[num_cycles:num_cycles+len(start),num_cycles:num_cycles+len(start),num_cycles,num_cycles] = start\n",
    "\n",
    "def new_value(a, i, j, k, l):\n",
    "    current = a[i,j,k,l]\n",
    "    s = a[\n",
    "        np.max([i-1, 0]):i+2,\n",
    "        np.max([j-1, 0]):j+2,\n",
    "        np.max([k-1, 0]):k+2,\n",
    "        np.max([l-1, 0]):l+2,\n",
    "    ].sum() - current\n",
    "    \n",
    "    if current == 0:\n",
    "        if s == 3:\n",
    "            return 1\n",
    "        return 0\n",
    "    else:\n",
    "        if s == 2 or s == 3:\n",
    "            return 1\n",
    "        return 0\n",
    "    \n",
    "    \n",
    "for c in range(6):\n",
    "    new_grid = grid.copy()\n",
    "    for i in range(grid.shape[0]):\n",
    "        for j in range(grid.shape[1]):\n",
    "            for k in range(grid.shape[2]):\n",
    "                for l in range(grid.shape[3]):\n",
    "                    new_grid[i,j,k,l] = new_value(grid, i, j, k, l)\n",
    "                \n",
    "    grid = new_grid\n",
    "    \n",
    "new_grid.sum()"
   ]
  },
  {
   "cell_type": "code",
   "execution_count": 51,
   "metadata": {},
   "outputs": [
    {
     "data": {
      "text/plain": [
       "313.0"
      ]
     },
     "execution_count": 51,
     "metadata": {},
     "output_type": "execute_result"
    }
   ],
   "source": [
    "new_grid.sum()"
   ]
  },
  {
   "cell_type": "code",
   "execution_count": 34,
   "metadata": {},
   "outputs": [
    {
     "data": {
      "text/plain": [
       "(20, 20, 13)"
      ]
     },
     "execution_count": 34,
     "metadata": {},
     "output_type": "execute_result"
    }
   ],
   "source": [
    "grid.shape"
   ]
  },
  {
   "cell_type": "code",
   "execution_count": 35,
   "metadata": {},
   "outputs": [
    {
     "data": {
      "text/plain": [
       "135200"
      ]
     },
     "execution_count": 35,
     "metadata": {},
     "output_type": "execute_result"
    }
   ],
   "source": [
    "20*20*13*26"
   ]
  },
  {
   "cell_type": "code",
   "execution_count": 33,
   "metadata": {},
   "outputs": [
    {
     "data": {
      "text/plain": [
       "array([[0., 0., 0., 0., 0., 0., 0., 0., 0., 0., 0., 0., 0., 0., 0., 0.,\n",
       "        0., 0., 0., 0.],\n",
       "       [0., 0., 0., 0., 0., 0., 0., 0., 0., 0., 0., 0., 0., 0., 0., 0.,\n",
       "        0., 0., 0., 0.],\n",
       "       [0., 0., 0., 0., 0., 0., 0., 0., 0., 0., 0., 0., 0., 0., 0., 0.,\n",
       "        0., 0., 0., 0.],\n",
       "       [0., 0., 0., 0., 0., 0., 0., 0., 0., 0., 0., 0., 0., 0., 0., 0.,\n",
       "        0., 0., 0., 0.],\n",
       "       [0., 0., 0., 0., 0., 0., 0., 0., 0., 0., 0., 0., 0., 0., 0., 0.,\n",
       "        0., 0., 0., 0.],\n",
       "       [0., 0., 0., 0., 0., 0., 0., 0., 0., 0., 0., 0., 0., 0., 0., 0.,\n",
       "        0., 0., 0., 0.],\n",
       "       [0., 0., 0., 0., 0., 0., 1., 1., 1., 1., 1., 0., 0., 0., 0., 0.,\n",
       "        0., 0., 0., 0.],\n",
       "       [0., 0., 0., 0., 0., 0., 0., 1., 0., 0., 1., 1., 0., 0., 0., 0.,\n",
       "        0., 0., 0., 0.],\n",
       "       [0., 0., 0., 0., 0., 0., 1., 1., 0., 1., 1., 0., 1., 1., 0., 0.,\n",
       "        0., 0., 0., 0.],\n",
       "       [0., 0., 0., 0., 0., 0., 0., 0., 0., 1., 1., 1., 1., 0., 0., 0.,\n",
       "        0., 0., 0., 0.],\n",
       "       [0., 0., 0., 0., 0., 0., 1., 0., 1., 0., 0., 0., 1., 1., 0., 0.,\n",
       "        0., 0., 0., 0.],\n",
       "       [0., 0., 0., 0., 0., 0., 0., 1., 1., 0., 0., 0., 1., 0., 0., 0.,\n",
       "        0., 0., 0., 0.],\n",
       "       [0., 0., 0., 0., 0., 0., 0., 1., 0., 1., 0., 1., 1., 1., 0., 0.,\n",
       "        0., 0., 0., 0.],\n",
       "       [0., 0., 0., 0., 0., 0., 1., 0., 1., 0., 1., 0., 0., 1., 0., 0.,\n",
       "        0., 0., 0., 0.],\n",
       "       [0., 0., 0., 0., 0., 0., 0., 0., 0., 0., 0., 0., 0., 0., 0., 0.,\n",
       "        0., 0., 0., 0.],\n",
       "       [0., 0., 0., 0., 0., 0., 0., 0., 0., 0., 0., 0., 0., 0., 0., 0.,\n",
       "        0., 0., 0., 0.],\n",
       "       [0., 0., 0., 0., 0., 0., 0., 0., 0., 0., 0., 0., 0., 0., 0., 0.,\n",
       "        0., 0., 0., 0.],\n",
       "       [0., 0., 0., 0., 0., 0., 0., 0., 0., 0., 0., 0., 0., 0., 0., 0.,\n",
       "        0., 0., 0., 0.],\n",
       "       [0., 0., 0., 0., 0., 0., 0., 0., 0., 0., 0., 0., 0., 0., 0., 0.,\n",
       "        0., 0., 0., 0.],\n",
       "       [0., 0., 0., 0., 0., 0., 0., 0., 0., 0., 0., 0., 0., 0., 0., 0.,\n",
       "        0., 0., 0., 0.]])"
      ]
     },
     "execution_count": 33,
     "metadata": {},
     "output_type": "execute_result"
    }
   ],
   "source": [
    "grid[:,:,6]"
   ]
  },
  {
   "cell_type": "code",
   "execution_count": null,
   "metadata": {},
   "outputs": [],
   "source": []
  }
 ],
 "metadata": {
  "kernelspec": {
   "display_name": "Python 3",
   "language": "python",
   "name": "python3"
  },
  "language_info": {
   "codemirror_mode": {
    "name": "ipython",
    "version": 3
   },
   "file_extension": ".py",
   "mimetype": "text/x-python",
   "name": "python",
   "nbconvert_exporter": "python",
   "pygments_lexer": "ipython3",
   "version": "3.7.1"
  }
 },
 "nbformat": 4,
 "nbformat_minor": 2
}
