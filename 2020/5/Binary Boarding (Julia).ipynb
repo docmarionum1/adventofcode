{
 "cells": [
  {
   "cell_type": "code",
   "execution_count": 1,
   "metadata": {},
   "outputs": [
    {
     "data": {
      "text/plain": [
       "901-element Array{String,1}:\n",
       " \"BBFBBBBRRL\"\n",
       " \"FBFFFFBLRL\"\n",
       " \"FBFBBFFRLR\"\n",
       " \"FBFFFBFRLR\"\n",
       " \"FFBBFFFLRR\"\n",
       " \"FFBBBFFRRR\"\n",
       " \"BFBBFBFLRL\"\n",
       " \"BFFFBFFLRR\"\n",
       " \"FBBBFFBLLR\"\n",
       " \"BBFFBBFRRL\"\n",
       " \"BFBBBBBRLR\"\n",
       " \"FBBBBFFLLR\"\n",
       " \"FFBFFFBLLR\"\n",
       " ⋮\n",
       " \"FFFFFBBRRL\"\n",
       " \"FBFBBBFRLR\"\n",
       " \"FBFFBBFLLL\"\n",
       " \"FFBFBFFRLR\"\n",
       " \"BBFBFBBLLL\"\n",
       " \"FFFFBFFLRL\"\n",
       " \"FBBFBBFLLL\"\n",
       " \"BFBFBBFLRL\"\n",
       " \"FFFFBBFLLR\"\n",
       " \"BFBBFBBRRL\"\n",
       " \"FBBBFFBRRL\"\n",
       " \"FBBBBFFRLL\""
      ]
     },
     "execution_count": 1,
     "metadata": {},
     "output_type": "execute_result"
    }
   ],
   "source": [
    "lines = open(\"input.txt\") do file\n",
    "    readlines(file)\n",
    "end"
   ]
  },
  {
   "cell_type": "code",
   "execution_count": 19,
   "metadata": {},
   "outputs": [
    {
     "data": {
      "text/plain": [
       "908.0"
      ]
     },
     "execution_count": 19,
     "metadata": {},
     "output_type": "execute_result"
    }
   ],
   "source": [
    "# Part 1\n",
    "\n",
    "function parse(boarding_pass)\n",
    "    # Get the row\n",
    "    row = 0\n",
    "    partition = 64\n",
    "    for char in boarding_pass[1:7]\n",
    "        if char === 'B'\n",
    "            row += partition\n",
    "        end\n",
    "        partition /= 2\n",
    "    end\n",
    "    \n",
    "    # Get the column\n",
    "    col = 0\n",
    "    partition = 4\n",
    "    for char in boarding_pass[8:10]\n",
    "        if char === 'R'\n",
    "            col += partition\n",
    "        end\n",
    "        partition /= 2\n",
    "    end\n",
    "    \n",
    "    return row*8 + col\n",
    "end\n",
    "        \n",
    "maximum(map(parse, lines))"
   ]
  },
  {
   "cell_type": "code",
   "execution_count": 22,
   "metadata": {},
   "outputs": [
    {
     "name": "stdout",
     "output_type": "stream",
     "text": [
      "619.0"
     ]
    },
    {
     "ename": "LoadError",
     "evalue": "BoundsError: attempt to access 901-element Array{Real,1} at index [902]",
     "output_type": "error",
     "traceback": [
      "BoundsError: attempt to access 901-element Array{Real,1} at index [902]",
      "",
      "Stacktrace:",
      " [1] getindex(::Array{Real,1}, ::Int64) at ./array.jl:809",
      " [2] top-level scope at ./In[22]:3",
      " [3] include_string(::Function, ::Module, ::String, ::String) at ./loading.jl:1091"
     ]
    }
   ],
   "source": [
    "# Part 2\n",
    "\n",
    "sorted_ids = sort(map(parse, lines))\n",
    "for (index, seat_id) in enumerate(sorted_ids)\n",
    "    if sorted_ids[index+1] != (seat_id + 1)\n",
    "        print(seat_id + 1)\n",
    "    end\n",
    "end"
   ]
  },
  {
   "cell_type": "code",
   "execution_count": null,
   "metadata": {},
   "outputs": [],
   "source": []
  }
 ],
 "metadata": {
  "kernelspec": {
   "display_name": "Julia 1.5.3",
   "language": "julia",
   "name": "julia-1.5"
  },
  "language_info": {
   "file_extension": ".jl",
   "mimetype": "application/julia",
   "name": "julia",
   "version": "1.5.3"
  }
 },
 "nbformat": 4,
 "nbformat_minor": 2
}
