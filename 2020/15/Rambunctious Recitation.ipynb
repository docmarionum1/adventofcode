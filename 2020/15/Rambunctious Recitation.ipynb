{
 "cells": [
  {
   "cell_type": "code",
   "execution_count": 1,
   "metadata": {},
   "outputs": [
    {
     "data": {
      "text/plain": [
       "441"
      ]
     },
     "execution_count": 1,
     "metadata": {},
     "output_type": "execute_result"
    }
   ],
   "source": [
    "# Part 1\n",
    "sequence = [1,0,18,10,19,6]\n",
    "memory = {}\n",
    "\n",
    "for i in range(len(sequence)):\n",
    "    memory[sequence[i]] = i + 1\n",
    "\n",
    "while len(sequence) < 2020:\n",
    "    if sequence[-1] not in memory:\n",
    "        memory[sequence[-1]] = len(sequence)\n",
    "        sequence.append(0)\n",
    "    else:\n",
    "        apart = len(sequence) - memory[sequence[-1]]\n",
    "        memory[sequence[-1]] = len(sequence)\n",
    "        sequence.append(apart)\n",
    "        \n",
    "sequence[-1]"
   ]
  },
  {
   "cell_type": "code",
   "execution_count": 2,
   "metadata": {},
   "outputs": [
    {
     "data": {
      "text/plain": [
       "10613991"
      ]
     },
     "execution_count": 2,
     "metadata": {},
     "output_type": "execute_result"
    }
   ],
   "source": [
    "# Part 2\n",
    "sequence = [1,0,18,10,19,6]\n",
    "memory = {}\n",
    "\n",
    "for i in range(len(sequence)):\n",
    "    memory[sequence[i]] = i + 1\n",
    "\n",
    "\n",
    "while len(sequence) < 30000000:\n",
    "    if sequence[-1] not in memory:\n",
    "        memory[sequence[-1]] = len(sequence)\n",
    "        sequence.append(0)\n",
    "    else:\n",
    "        apart = len(sequence) - memory[sequence[-1]]\n",
    "        memory[sequence[-1]] = len(sequence)\n",
    "        sequence.append(apart)\n",
    "        \n",
    "sequence[-1]"
   ]
  },
  {
   "cell_type": "code",
   "execution_count": null,
   "metadata": {},
   "outputs": [],
   "source": []
  }
 ],
 "metadata": {
  "kernelspec": {
   "display_name": "Python 3",
   "language": "python",
   "name": "python3"
  },
  "language_info": {
   "codemirror_mode": {
    "name": "ipython",
    "version": 3
   },
   "file_extension": ".py",
   "mimetype": "text/x-python",
   "name": "python",
   "nbconvert_exporter": "python",
   "pygments_lexer": "ipython3",
   "version": "3.7.1"
  }
 },
 "nbformat": 4,
 "nbformat_minor": 2
}
