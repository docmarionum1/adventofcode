{
 "cells": [
  {
   "cell_type": "code",
   "execution_count": 1,
   "id": "latest-afternoon",
   "metadata": {},
   "outputs": [
    {
     "data": {
      "text/plain": [
       "[113,\n",
       " 109,\n",
       " 107,\n",
       " 103,\n",
       " 101,\n",
       " 97,\n",
       " 89,\n",
       " 83,\n",
       " 79,\n",
       " 73,\n",
       " 71,\n",
       " 67,\n",
       " 61,\n",
       " 59,\n",
       " 53,\n",
       " 47,\n",
       " 43,\n",
       " 41,\n",
       " 37,\n",
       " 31,\n",
       " 23,\n",
       " 19,\n",
       " 17,\n",
       " 13,\n",
       " 11,\n",
       " 7,\n",
       " 3,\n",
       " 2,\n",
       " 1]"
      ]
     },
     "execution_count": 1,
     "metadata": {},
     "output_type": "execute_result"
    }
   ],
   "source": [
    "import itertools\n",
    "import numpy as np\n",
    "lines = \"\"\"1\n",
    "2\n",
    "3\n",
    "7\n",
    "11\n",
    "13\n",
    "17\n",
    "19\n",
    "23\n",
    "31\n",
    "37\n",
    "41\n",
    "43\n",
    "47\n",
    "53\n",
    "59\n",
    "61\n",
    "67\n",
    "71\n",
    "73\n",
    "79\n",
    "83\n",
    "89\n",
    "97\n",
    "101\n",
    "103\n",
    "107\n",
    "109\n",
    "113\"\"\".split(\"\\n\")\n",
    "packages = [int(i) for i in lines][::-1]\n",
    "packages"
   ]
  },
  {
   "cell_type": "code",
   "execution_count": 2,
   "id": "narrative-cowboy",
   "metadata": {},
   "outputs": [
    {
     "data": {
      "text/plain": [
       "11846773891"
      ]
     },
     "execution_count": 2,
     "metadata": {},
     "output_type": "execute_result"
    }
   ],
   "source": [
    "# Part 1\n",
    "\n",
    "target = sum(packages) / 3\n",
    "\n",
    "c = 6 # Minimum 6 packages\n",
    "\n",
    "possible = []\n",
    "\n",
    "for s in itertools.combinations(packages, c):\n",
    "    if sum(s) == target:\n",
    "        possible.append(s)\n",
    "            \n",
    "min([np.prod(l) for l in possible])"
   ]
  },
  {
   "cell_type": "code",
   "execution_count": 3,
   "id": "classical-accommodation",
   "metadata": {},
   "outputs": [
    {
     "data": {
      "text/plain": [
       "80393059"
      ]
     },
     "execution_count": 3,
     "metadata": {},
     "output_type": "execute_result"
    }
   ],
   "source": [
    "# Part 2\n",
    "\n",
    "target = sum(packages) / 4\n",
    "\n",
    "c = 4 # Minimum 4 packages\n",
    "\n",
    "possible = []\n",
    "\n",
    "for s in itertools.combinations(packages, c):\n",
    "    if sum(s) == target:\n",
    "        possible.append(s)\n",
    "            \n",
    "min([np.prod(l) for l in possible])"
   ]
  },
  {
   "cell_type": "code",
   "execution_count": null,
   "id": "collected-second",
   "metadata": {},
   "outputs": [],
   "source": []
  }
 ],
 "metadata": {
  "kernelspec": {
   "display_name": "Python 3",
   "language": "python",
   "name": "python3"
  },
  "language_info": {
   "codemirror_mode": {
    "name": "ipython",
    "version": 3
   },
   "file_extension": ".py",
   "mimetype": "text/x-python",
   "name": "python",
   "nbconvert_exporter": "python",
   "pygments_lexer": "ipython3",
   "version": "3.9.1"
  }
 },
 "nbformat": 4,
 "nbformat_minor": 5
}
