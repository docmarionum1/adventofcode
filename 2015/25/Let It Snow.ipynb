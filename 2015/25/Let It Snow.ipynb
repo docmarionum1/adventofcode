{
 "cells": [
  {
   "cell_type": "code",
   "execution_count": 1,
   "id": "generic-recruitment",
   "metadata": {},
   "outputs": [],
   "source": [
    "import numpy as np\n",
    "y = 2978\n",
    "x = 3083\n",
    "n = x + y"
   ]
  },
  {
   "cell_type": "code",
   "execution_count": 2,
   "id": "surface-bridal",
   "metadata": {},
   "outputs": [
    {
     "data": {
      "text/plain": [
       "2650453.0"
      ]
     },
     "execution_count": 2,
     "metadata": {},
     "output_type": "execute_result"
    }
   ],
   "source": [
    "grid = np.zeros((n + 2, n + 2))\n",
    "grid[1,1] = 20151125\n",
    "\n",
    "i = 1\n",
    "j = 2\n",
    "prev = 20151125\n",
    "\n",
    "while (i < n + 2) and (j < n + 2):\n",
    "    prev = (prev * 252533) % 33554393\n",
    "    grid[j,i] = prev\n",
    "    \n",
    "    i += 1\n",
    "    j -= 1\n",
    "    \n",
    "    if j < 1:\n",
    "        j = i\n",
    "        i = 1\n",
    "        \n",
    "grid[y,x]"
   ]
  },
  {
   "cell_type": "code",
   "execution_count": null,
   "id": "fatal-editing",
   "metadata": {},
   "outputs": [],
   "source": []
  }
 ],
 "metadata": {
  "kernelspec": {
   "display_name": "Python 3",
   "language": "python",
   "name": "python3"
  },
  "language_info": {
   "codemirror_mode": {
    "name": "ipython",
    "version": 3
   },
   "file_extension": ".py",
   "mimetype": "text/x-python",
   "name": "python",
   "nbconvert_exporter": "python",
   "pygments_lexer": "ipython3",
   "version": "3.9.1"
  }
 },
 "nbformat": 4,
 "nbformat_minor": 5
}
