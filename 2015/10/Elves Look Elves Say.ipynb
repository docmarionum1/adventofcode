{
 "cells": [
  {
   "cell_type": "code",
   "execution_count": 7,
   "id": "french-multiple",
   "metadata": {},
   "outputs": [],
   "source": [
    "inp = '3113322113'\n",
    "\n",
    "def look_and_say(s):\n",
    "    i = 0\n",
    "    j = 0\n",
    "    out = ''\n",
    "    \n",
    "    while i < len(s) and j < len(s):\n",
    "        while j < len(s) and s[j] == s[i]:\n",
    "            j += 1\n",
    "            \n",
    "        out += str(j - i) + s[i]\n",
    "        \n",
    "        i = j\n",
    "        \n",
    "    return out"
   ]
  },
  {
   "cell_type": "code",
   "execution_count": 8,
   "id": "identified-retailer",
   "metadata": {},
   "outputs": [
    {
     "data": {
      "text/plain": [
       "329356"
      ]
     },
     "execution_count": 8,
     "metadata": {},
     "output_type": "execute_result"
    }
   ],
   "source": [
    "# Part 1\n",
    "for i in range(40):\n",
    "    inp = look_and_say(inp)\n",
    "    \n",
    "len(inp)"
   ]
  },
  {
   "cell_type": "code",
   "execution_count": 9,
   "id": "changed-forty",
   "metadata": {},
   "outputs": [
    {
     "data": {
      "text/plain": [
       "4666278"
      ]
     },
     "execution_count": 9,
     "metadata": {},
     "output_type": "execute_result"
    }
   ],
   "source": [
    "# Part 2\n",
    "for i in range(10):\n",
    "    inp = look_and_say(inp)\n",
    "    \n",
    "len(inp)"
   ]
  },
  {
   "cell_type": "code",
   "execution_count": null,
   "id": "knowing-singles",
   "metadata": {},
   "outputs": [],
   "source": []
  }
 ],
 "metadata": {
  "kernelspec": {
   "display_name": "Python 3",
   "language": "python",
   "name": "python3"
  },
  "language_info": {
   "codemirror_mode": {
    "name": "ipython",
    "version": 3
   },
   "file_extension": ".py",
   "mimetype": "text/x-python",
   "name": "python",
   "nbconvert_exporter": "python",
   "pygments_lexer": "ipython3",
   "version": "3.9.1"
  }
 },
 "nbformat": 4,
 "nbformat_minor": 5
}
