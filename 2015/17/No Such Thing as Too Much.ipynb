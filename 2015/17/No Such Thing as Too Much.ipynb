{
 "cells": [
  {
   "cell_type": "code",
   "execution_count": 1,
   "id": "continued-malta",
   "metadata": {},
   "outputs": [
    {
     "data": {
      "text/plain": [
       "[33, 14, 18, 20, 45, 35, 16, 35, 1, 13, 18, 13, 50, 44, 48, 6, 24, 41, 30, 42]"
      ]
     },
     "execution_count": 1,
     "metadata": {},
     "output_type": "execute_result"
    }
   ],
   "source": [
    "with open('input.txt') as f:\n",
    "    lines = f.readlines()\n",
    "lines\n",
    "\n",
    "containers = [int(l) for l in lines]\n",
    "containers"
   ]
  },
  {
   "cell_type": "code",
   "execution_count": 2,
   "id": "printable-greene",
   "metadata": {},
   "outputs": [
    {
     "data": {
      "text/plain": [
       "1304"
      ]
     },
     "execution_count": 2,
     "metadata": {},
     "output_type": "execute_result"
    }
   ],
   "source": [
    "# Part 1 \n",
    "\n",
    "def f(containers, q):\n",
    "    containers = [c for c in containers]\n",
    "    \n",
    "    count = 0\n",
    "    for i in range(len(containers)):\n",
    "        if containers[i] == q:\n",
    "            count += 1\n",
    "        elif containers[i] < q:\n",
    "            count += f(containers[i+1:], q - containers[i])\n",
    "    \n",
    "    return count\n",
    "\n",
    "f(containers, 150)"
   ]
  },
  {
   "cell_type": "code",
   "execution_count": 3,
   "id": "aggressive-fellowship",
   "metadata": {},
   "outputs": [
    {
     "data": {
      "text/plain": [
       "18"
      ]
     },
     "execution_count": 3,
     "metadata": {},
     "output_type": "execute_result"
    }
   ],
   "source": [
    "# Part 2\n",
    "\n",
    "def f(containers, q):\n",
    "    containers = [c for c in containers]\n",
    "    \n",
    "    counts = []\n",
    "    \n",
    "    for i in range(len(containers)):\n",
    "        if containers[i] == q:\n",
    "            #count += 1\n",
    "            counts.append(1)\n",
    "        elif containers[i] < q:\n",
    "            #count += f(containers[i+1:], q - containers[i])\n",
    "            counts += [1 + c for c in f(containers[i+1:], q - containers[i])]\n",
    "    \n",
    "    return counts\n",
    "\n",
    "counts = f(containers, 150)\n",
    "m = min(counts)\n",
    "len([c for c in counts if c == m])"
   ]
  },
  {
   "cell_type": "code",
   "execution_count": null,
   "id": "fantastic-saturn",
   "metadata": {},
   "outputs": [],
   "source": []
  }
 ],
 "metadata": {
  "kernelspec": {
   "display_name": "Python 3",
   "language": "python",
   "name": "python3"
  },
  "language_info": {
   "codemirror_mode": {
    "name": "ipython",
    "version": 3
   },
   "file_extension": ".py",
   "mimetype": "text/x-python",
   "name": "python",
   "nbconvert_exporter": "python",
   "pygments_lexer": "ipython3",
   "version": "3.9.1"
  }
 },
 "nbformat": 4,
 "nbformat_minor": 5
}
