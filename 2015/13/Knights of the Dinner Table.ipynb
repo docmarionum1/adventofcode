{
 "cells": [
  {
   "cell_type": "code",
   "execution_count": 1,
   "metadata": {},
   "outputs": [],
   "source": [
    "import itertools\n",
    "import re"
   ]
  },
  {
   "cell_type": "code",
   "execution_count": 2,
   "metadata": {},
   "outputs": [
    {
     "data": {
      "text/plain": [
       "['Alice would lose 57 happiness units by sitting next to Bob.\\n',\n",
       " 'Alice would lose 62 happiness units by sitting next to Carol.\\n',\n",
       " 'Alice would lose 75 happiness units by sitting next to David.\\n',\n",
       " 'Alice would gain 71 happiness units by sitting next to Eric.\\n',\n",
       " 'Alice would lose 22 happiness units by sitting next to Frank.\\n',\n",
       " 'Alice would lose 23 happiness units by sitting next to George.\\n',\n",
       " 'Alice would lose 76 happiness units by sitting next to Mallory.\\n',\n",
       " 'Bob would lose 14 happiness units by sitting next to Alice.\\n',\n",
       " 'Bob would gain 48 happiness units by sitting next to Carol.\\n',\n",
       " 'Bob would gain 89 happiness units by sitting next to David.\\n',\n",
       " 'Bob would gain 86 happiness units by sitting next to Eric.\\n',\n",
       " 'Bob would lose 2 happiness units by sitting next to Frank.\\n',\n",
       " 'Bob would gain 27 happiness units by sitting next to George.\\n',\n",
       " 'Bob would gain 19 happiness units by sitting next to Mallory.\\n',\n",
       " 'Carol would gain 37 happiness units by sitting next to Alice.\\n',\n",
       " 'Carol would gain 45 happiness units by sitting next to Bob.\\n',\n",
       " 'Carol would gain 24 happiness units by sitting next to David.\\n',\n",
       " 'Carol would gain 5 happiness units by sitting next to Eric.\\n',\n",
       " 'Carol would lose 68 happiness units by sitting next to Frank.\\n',\n",
       " 'Carol would lose 25 happiness units by sitting next to George.\\n',\n",
       " 'Carol would gain 30 happiness units by sitting next to Mallory.\\n',\n",
       " 'David would lose 51 happiness units by sitting next to Alice.\\n',\n",
       " 'David would gain 34 happiness units by sitting next to Bob.\\n',\n",
       " 'David would gain 99 happiness units by sitting next to Carol.\\n',\n",
       " 'David would gain 91 happiness units by sitting next to Eric.\\n',\n",
       " 'David would lose 38 happiness units by sitting next to Frank.\\n',\n",
       " 'David would gain 60 happiness units by sitting next to George.\\n',\n",
       " 'David would lose 63 happiness units by sitting next to Mallory.\\n',\n",
       " 'Eric would gain 23 happiness units by sitting next to Alice.\\n',\n",
       " 'Eric would lose 69 happiness units by sitting next to Bob.\\n',\n",
       " 'Eric would lose 33 happiness units by sitting next to Carol.\\n',\n",
       " 'Eric would lose 47 happiness units by sitting next to David.\\n',\n",
       " 'Eric would gain 75 happiness units by sitting next to Frank.\\n',\n",
       " 'Eric would gain 82 happiness units by sitting next to George.\\n',\n",
       " 'Eric would gain 13 happiness units by sitting next to Mallory.\\n',\n",
       " 'Frank would gain 77 happiness units by sitting next to Alice.\\n',\n",
       " 'Frank would gain 27 happiness units by sitting next to Bob.\\n',\n",
       " 'Frank would lose 87 happiness units by sitting next to Carol.\\n',\n",
       " 'Frank would gain 74 happiness units by sitting next to David.\\n',\n",
       " 'Frank would lose 41 happiness units by sitting next to Eric.\\n',\n",
       " 'Frank would lose 99 happiness units by sitting next to George.\\n',\n",
       " 'Frank would gain 26 happiness units by sitting next to Mallory.\\n',\n",
       " 'George would lose 63 happiness units by sitting next to Alice.\\n',\n",
       " 'George would lose 51 happiness units by sitting next to Bob.\\n',\n",
       " 'George would lose 60 happiness units by sitting next to Carol.\\n',\n",
       " 'George would gain 30 happiness units by sitting next to David.\\n',\n",
       " 'George would lose 100 happiness units by sitting next to Eric.\\n',\n",
       " 'George would lose 63 happiness units by sitting next to Frank.\\n',\n",
       " 'George would gain 57 happiness units by sitting next to Mallory.\\n',\n",
       " 'Mallory would lose 71 happiness units by sitting next to Alice.\\n',\n",
       " 'Mallory would lose 28 happiness units by sitting next to Bob.\\n',\n",
       " 'Mallory would lose 10 happiness units by sitting next to Carol.\\n',\n",
       " 'Mallory would gain 44 happiness units by sitting next to David.\\n',\n",
       " 'Mallory would gain 22 happiness units by sitting next to Eric.\\n',\n",
       " 'Mallory would gain 79 happiness units by sitting next to Frank.\\n',\n",
       " 'Mallory would lose 16 happiness units by sitting next to George.\\n']"
      ]
     },
     "execution_count": 2,
     "metadata": {},
     "output_type": "execute_result"
    }
   ],
   "source": [
    "with open('input.txt') as f:\n",
    "    lines = f.readlines()\n",
    "lines"
   ]
  },
  {
   "cell_type": "code",
   "execution_count": 3,
   "metadata": {},
   "outputs": [],
   "source": [
    "happiness = {}\n",
    "names = set()\n",
    "\n",
    "for l in lines:\n",
    "    name1, direction, amount, name2 = re.match(r'(.*) would (gain|lose) (\\d+) happiness units by sitting next to (.*)\\.', l).groups()\n",
    "    happiness[(name1, name2)] = int(amount) * (-1 if direction == \"lose\" else 1)\n",
    "    names.add(name1)\n",
    "    \n",
    "def calc(table):\n",
    "    total = 0\n",
    "    \n",
    "    for i in range(len(table) - 1):\n",
    "        total += happiness[(table[i], table[i-1])]\n",
    "        total += happiness[(table[i], table[i+1])]\n",
    "        \n",
    "    total += happiness[(table[-1], table[-2])]\n",
    "    total += happiness[(table[-1], table[0])]\n",
    "        \n",
    "    return total\n"
   ]
  },
  {
   "cell_type": "code",
   "execution_count": 4,
   "metadata": {},
   "outputs": [
    {
     "data": {
      "text/plain": [
       "618"
      ]
     },
     "execution_count": 4,
     "metadata": {},
     "output_type": "execute_result"
    }
   ],
   "source": [
    "# Part 1\n",
    "\n",
    "m = 0\n",
    "for t in itertools.permutations(names):\n",
    "    c = calc(t)\n",
    "    if c > m:\n",
    "        m = c\n",
    "m"
   ]
  },
  {
   "cell_type": "code",
   "execution_count": 5,
   "metadata": {},
   "outputs": [
    {
     "data": {
      "text/plain": [
       "601"
      ]
     },
     "execution_count": 5,
     "metadata": {},
     "output_type": "execute_result"
    }
   ],
   "source": [
    "# Part 2\n",
    "\n",
    "for n in names:\n",
    "    happiness[(\"me\", n)] = 0\n",
    "    happiness[(n,  \"me\")] = 0\n",
    "\n",
    "names.add(\"me\")\n",
    "\n",
    "m = 0\n",
    "for t in itertools.permutations(names):\n",
    "    c = calc(t)\n",
    "    if c > m:\n",
    "        m = c\n",
    "m"
   ]
  },
  {
   "cell_type": "code",
   "execution_count": null,
   "metadata": {},
   "outputs": [],
   "source": []
  }
 ],
 "metadata": {
  "kernelspec": {
   "display_name": "Python 3",
   "language": "python",
   "name": "python3"
  },
  "language_info": {
   "codemirror_mode": {
    "name": "ipython",
    "version": 3
   },
   "file_extension": ".py",
   "mimetype": "text/x-python",
   "name": "python",
   "nbconvert_exporter": "python",
   "pygments_lexer": "ipython3",
   "version": "3.7.1"
  }
 },
 "nbformat": 4,
 "nbformat_minor": 2
}
