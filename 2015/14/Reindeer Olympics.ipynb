{
 "cells": [
  {
   "cell_type": "code",
   "execution_count": 1,
   "metadata": {},
   "outputs": [],
   "source": [
    "import re"
   ]
  },
  {
   "cell_type": "code",
   "execution_count": 2,
   "metadata": {},
   "outputs": [
    {
     "data": {
      "text/plain": [
       "['Dancer can fly 27 km/s for 5 seconds, but then must rest for 132 seconds.\\n',\n",
       " 'Cupid can fly 22 km/s for 2 seconds, but then must rest for 41 seconds.\\n',\n",
       " 'Rudolph can fly 11 km/s for 5 seconds, but then must rest for 48 seconds.\\n',\n",
       " 'Donner can fly 28 km/s for 5 seconds, but then must rest for 134 seconds.\\n',\n",
       " 'Dasher can fly 4 km/s for 16 seconds, but then must rest for 55 seconds.\\n',\n",
       " 'Blitzen can fly 14 km/s for 3 seconds, but then must rest for 38 seconds.\\n',\n",
       " 'Prancer can fly 3 km/s for 21 seconds, but then must rest for 40 seconds.\\n',\n",
       " 'Comet can fly 18 km/s for 6 seconds, but then must rest for 103 seconds.\\n',\n",
       " 'Vixen can fly 18 km/s for 5 seconds, but then must rest for 84 seconds.\\n']"
      ]
     },
     "execution_count": 2,
     "metadata": {},
     "output_type": "execute_result"
    }
   ],
   "source": [
    "with open('input.txt') as f:\n",
    "    lines = f.readlines()\n",
    "    \n",
    "# Test Input\n",
    "# lines = [\n",
    "#     'Comet can fly 14 km/s for 10 seconds, but then must rest for 127 seconds.\\n',\n",
    "#     'Dancer can fly 16 km/s for 11 seconds, but then must rest for 162 seconds.\\n'\n",
    "# ]\n",
    "    \n",
    "lines"
   ]
  },
  {
   "cell_type": "code",
   "execution_count": 3,
   "metadata": {},
   "outputs": [
    {
     "name": "stdout",
     "output_type": "stream",
     "text": [
      "Part 1: 2640\n",
      "Part 2: 1102\n"
     ]
    }
   ],
   "source": [
    "class Reindeer:\n",
    "    def __init__(self, speed, fly_time, rest_time):\n",
    "        self.speed = speed\n",
    "        self.fly_time = fly_time\n",
    "        self.rest_time = rest_time\n",
    "        self.flying = True\n",
    "        self.i = fly_time\n",
    "        self.loc = 0\n",
    "        self.points = 0\n",
    "        \n",
    "    def step(self):\n",
    "        if self.flying:\n",
    "            self.loc += self.speed\n",
    "        \n",
    "        self.i -= 1\n",
    "        \n",
    "        if self.i == 0:\n",
    "            self.flying = not self.flying\n",
    "            self.i = self.fly_time if self.flying else self.rest_time\n",
    "    \n",
    "reindeer = []\n",
    "for l in lines:\n",
    "    name, speed, fly_time, rest_time = re.match(r'(.*) can fly (\\d+) km/s for (\\d+) seconds, but then must rest for (\\d+) seconds.\\n', l).groups()\n",
    "    reindeer.append(Reindeer(int(speed), int(fly_time), int(rest_time)))\n",
    "    \n",
    "# Part 1 & 2\n",
    "\n",
    "for i in range(2503):\n",
    "    for r in reindeer:\n",
    "        r.step()\n",
    "        \n",
    "    lead = max(r.loc for r in reindeer)\n",
    "    \n",
    "    for r in reindeer:\n",
    "        if r.loc == lead:\n",
    "            r.points += 1\n",
    "        \n",
    "print(\"Part 1:\", max(r.loc for r in reindeer))\n",
    "print(\"Part 2:\", max(r.points for r in reindeer))\n"
   ]
  },
  {
   "cell_type": "code",
   "execution_count": null,
   "metadata": {},
   "outputs": [],
   "source": []
  }
 ],
 "metadata": {
  "kernelspec": {
   "display_name": "Python 3",
   "language": "python",
   "name": "python3"
  },
  "language_info": {
   "codemirror_mode": {
    "name": "ipython",
    "version": 3
   },
   "file_extension": ".py",
   "mimetype": "text/x-python",
   "name": "python",
   "nbconvert_exporter": "python",
   "pygments_lexer": "ipython3",
   "version": "3.7.1"
  }
 },
 "nbformat": 4,
 "nbformat_minor": 2
}
