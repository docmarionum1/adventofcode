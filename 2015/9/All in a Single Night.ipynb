{
 "cells": [
  {
   "cell_type": "code",
   "execution_count": 1,
   "id": "activated-indian",
   "metadata": {},
   "outputs": [],
   "source": [
    "import itertools"
   ]
  },
  {
   "cell_type": "code",
   "execution_count": 2,
   "id": "academic-details",
   "metadata": {},
   "outputs": [
    {
     "data": {
      "text/plain": [
       "['Tristram to AlphaCentauri = 34\\n',\n",
       " 'Tristram to Snowdin = 100\\n',\n",
       " 'Tristram to Tambi = 63\\n',\n",
       " 'Tristram to Faerun = 108\\n',\n",
       " 'Tristram to Norrath = 111\\n',\n",
       " 'Tristram to Straylight = 89\\n',\n",
       " 'Tristram to Arbre = 132\\n',\n",
       " 'AlphaCentauri to Snowdin = 4\\n',\n",
       " 'AlphaCentauri to Tambi = 79\\n',\n",
       " 'AlphaCentauri to Faerun = 44\\n',\n",
       " 'AlphaCentauri to Norrath = 147\\n',\n",
       " 'AlphaCentauri to Straylight = 133\\n',\n",
       " 'AlphaCentauri to Arbre = 74\\n',\n",
       " 'Snowdin to Tambi = 105\\n',\n",
       " 'Snowdin to Faerun = 95\\n',\n",
       " 'Snowdin to Norrath = 48\\n',\n",
       " 'Snowdin to Straylight = 88\\n',\n",
       " 'Snowdin to Arbre = 7\\n',\n",
       " 'Tambi to Faerun = 68\\n',\n",
       " 'Tambi to Norrath = 134\\n',\n",
       " 'Tambi to Straylight = 107\\n',\n",
       " 'Tambi to Arbre = 40\\n',\n",
       " 'Faerun to Norrath = 11\\n',\n",
       " 'Faerun to Straylight = 66\\n',\n",
       " 'Faerun to Arbre = 144\\n',\n",
       " 'Norrath to Straylight = 115\\n',\n",
       " 'Norrath to Arbre = 135\\n',\n",
       " 'Straylight to Arbre = 127\\n']"
      ]
     },
     "execution_count": 2,
     "metadata": {},
     "output_type": "execute_result"
    }
   ],
   "source": [
    "with open('input.txt') as f:\n",
    "    lines = f.readlines()\n",
    "lines"
   ]
  },
  {
   "cell_type": "code",
   "execution_count": 3,
   "id": "frozen-fellow",
   "metadata": {},
   "outputs": [],
   "source": [
    "graph = {}\n",
    "locations = set()\n",
    "\n",
    "for line in lines:\n",
    "    parts = line.strip().split(' ')\n",
    "    graph[(parts[0], parts[2])] = int(parts[-1])\n",
    "    graph[(parts[2], parts[0])] = int(parts[-1])\n",
    "    locations.add(parts[0])\n",
    "    locations.add(parts[2])"
   ]
  },
  {
   "cell_type": "code",
   "execution_count": 4,
   "id": "israeli-dominican",
   "metadata": {
    "scrolled": true
   },
   "outputs": [
    {
     "data": {
      "text/plain": [
       "251"
      ]
     },
     "execution_count": 4,
     "metadata": {},
     "output_type": "execute_result"
    }
   ],
   "source": [
    "def distance(order):\n",
    "    dist = 0\n",
    "    for i in range(len(order) - 1):\n",
    "        dist += graph[(order[i], order[i+1])]\n",
    "        \n",
    "    return dist\n",
    "\n",
    "# Part 1\n",
    "\n",
    "min(map(distance, itertools.permutations(locations)))"
   ]
  },
  {
   "cell_type": "code",
   "execution_count": 5,
   "id": "brazilian-birthday",
   "metadata": {},
   "outputs": [
    {
     "data": {
      "text/plain": [
       "898"
      ]
     },
     "execution_count": 5,
     "metadata": {},
     "output_type": "execute_result"
    }
   ],
   "source": [
    "# Part 2\n",
    "\n",
    "max(map(distance, itertools.permutations(locations)))"
   ]
  },
  {
   "cell_type": "code",
   "execution_count": null,
   "id": "featured-donor",
   "metadata": {},
   "outputs": [],
   "source": []
  }
 ],
 "metadata": {
  "kernelspec": {
   "display_name": "Python 3",
   "language": "python",
   "name": "python3"
  },
  "language_info": {
   "codemirror_mode": {
    "name": "ipython",
    "version": 3
   },
   "file_extension": ".py",
   "mimetype": "text/x-python",
   "name": "python",
   "nbconvert_exporter": "python",
   "pygments_lexer": "ipython3",
   "version": "3.9.1"
  }
 },
 "nbformat": 4,
 "nbformat_minor": 5
}
