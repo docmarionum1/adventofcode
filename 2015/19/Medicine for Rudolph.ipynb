{
 "cells": [
  {
   "cell_type": "code",
   "execution_count": 1,
   "id": "dynamic-collectible",
   "metadata": {},
   "outputs": [],
   "source": [
    "import re"
   ]
  },
  {
   "cell_type": "code",
   "execution_count": 2,
   "id": "divided-adaptation",
   "metadata": {},
   "outputs": [
    {
     "data": {
      "text/plain": [
       "['Al => ThF\\n',\n",
       " 'Al => ThRnFAr\\n',\n",
       " 'B => BCa\\n',\n",
       " 'B => TiB\\n',\n",
       " 'B => TiRnFAr\\n',\n",
       " 'Ca => CaCa\\n',\n",
       " 'Ca => PB\\n',\n",
       " 'Ca => PRnFAr\\n',\n",
       " 'Ca => SiRnFYFAr\\n',\n",
       " 'Ca => SiRnMgAr\\n',\n",
       " 'Ca => SiTh\\n',\n",
       " 'F => CaF\\n',\n",
       " 'F => PMg\\n',\n",
       " 'F => SiAl\\n',\n",
       " 'H => CRnAlAr\\n',\n",
       " 'H => CRnFYFYFAr\\n',\n",
       " 'H => CRnFYMgAr\\n',\n",
       " 'H => CRnMgYFAr\\n',\n",
       " 'H => HCa\\n',\n",
       " 'H => NRnFYFAr\\n',\n",
       " 'H => NRnMgAr\\n',\n",
       " 'H => NTh\\n',\n",
       " 'H => OB\\n',\n",
       " 'H => ORnFAr\\n',\n",
       " 'Mg => BF\\n',\n",
       " 'Mg => TiMg\\n',\n",
       " 'N => CRnFAr\\n',\n",
       " 'N => HSi\\n',\n",
       " 'O => CRnFYFAr\\n',\n",
       " 'O => CRnMgAr\\n',\n",
       " 'O => HP\\n',\n",
       " 'O => NRnFAr\\n',\n",
       " 'O => OTi\\n',\n",
       " 'P => CaP\\n',\n",
       " 'P => PTi\\n',\n",
       " 'P => SiRnFAr\\n',\n",
       " 'Si => CaSi\\n',\n",
       " 'Th => ThCa\\n',\n",
       " 'Ti => BP\\n',\n",
       " 'Ti => TiTi\\n',\n",
       " 'e => HF\\n',\n",
       " 'e => NAl\\n',\n",
       " 'e => OMg\\n',\n",
       " '\\n',\n",
       " 'ORnPBPMgArCaCaCaSiThCaCaSiThCaCaPBSiRnFArRnFArCaCaSiThCaCaSiThCaCaCaCaCaCaSiRnFYFArSiRnMgArCaSiRnPTiTiBFYPBFArSiRnCaSiRnTiRnFArSiAlArPTiBPTiRnCaSiAlArCaPTiTiBPMgYFArPTiRnFArSiRnCaCaFArRnCaFArCaSiRnSiRnMgArFYCaSiRnMgArCaCaSiThPRnFArPBCaSiRnMgArCaCaSiThCaSiRnTiMgArFArSiThSiThCaCaSiRnMgArCaCaSiRnFArTiBPTiRnCaSiAlArCaPTiRnFArPBPBCaCaSiThCaPBSiThPRnFArSiThCaSiThCaSiThCaPTiBSiRnFYFArCaCaPRnFArPBCaCaPBSiRnTiRnFArCaPRnFArSiRnCaCaCaSiThCaRnCaFArYCaSiRnFArBCaCaCaSiThFArPBFArCaSiRnFArRnCaCaCaFArSiRnFArTiRnPMgArF\\n']"
      ]
     },
     "execution_count": 2,
     "metadata": {},
     "output_type": "execute_result"
    }
   ],
   "source": [
    "with open('input.txt') as f:\n",
    "    lines = f.readlines()\n",
    "lines"
   ]
  },
  {
   "cell_type": "code",
   "execution_count": 3,
   "id": "cathedral-world",
   "metadata": {
    "scrolled": true
   },
   "outputs": [
    {
     "data": {
      "text/plain": [
       "576"
      ]
     },
     "execution_count": 3,
     "metadata": {},
     "output_type": "execute_result"
    }
   ],
   "source": [
    "# Part 1\n",
    "\n",
    "molecule = lines[-1].strip()\n",
    "\n",
    "outputs = set()\n",
    "\n",
    "for l in lines[:-2]:\n",
    "    i, o = [s.strip() for s in l.split(\"=>\")]\n",
    "    #print(i,o)\n",
    "    \n",
    "    for m in re.finditer(i, molecule):\n",
    "        outputs.add(molecule[:m.start()] + o + molecule[m.end():])\n",
    "        \n",
    "len(outputs)"
   ]
  },
  {
   "cell_type": "code",
   "execution_count": 4,
   "id": "regulation-location",
   "metadata": {
    "scrolled": true
   },
   "outputs": [
    {
     "data": {
      "text/plain": [
       "207"
      ]
     },
     "execution_count": 4,
     "metadata": {},
     "output_type": "execute_result"
    }
   ],
   "source": [
    "# Part 2\n",
    "# https://www.reddit.com/r/adventofcode/comments/3xflz8/day_19_solutions/cy4etju/\n",
    "\n",
    "len(list(re.finditer(r'H|Ca|O|Al|B|P|N|F|Mg|Si|Th|Ti|Y|Ar|Rn', molecule))) - len(list(re.finditer('Rn', molecule))) - len(list(re.finditer('Ar', molecule))) - len(list(re.finditer('Y', molecule)))*2 - 1"
   ]
  },
  {
   "cell_type": "code",
   "execution_count": null,
   "id": "driven-bathroom",
   "metadata": {},
   "outputs": [],
   "source": []
  }
 ],
 "metadata": {
  "kernelspec": {
   "display_name": "Python 3",
   "language": "python",
   "name": "python3"
  },
  "language_info": {
   "codemirror_mode": {
    "name": "ipython",
    "version": 3
   },
   "file_extension": ".py",
   "mimetype": "text/x-python",
   "name": "python",
   "nbconvert_exporter": "python",
   "pygments_lexer": "ipython3",
   "version": "3.9.1"
  }
 },
 "nbformat": 4,
 "nbformat_minor": 5
}
