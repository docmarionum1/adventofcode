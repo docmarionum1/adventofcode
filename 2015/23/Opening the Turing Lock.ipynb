{
 "cells": [
  {
   "cell_type": "code",
   "execution_count": 1,
   "id": "conditional-voltage",
   "metadata": {
    "scrolled": false
   },
   "outputs": [
    {
     "data": {
      "text/plain": [
       "['jio a, +19\\n',\n",
       " 'inc a\\n',\n",
       " 'tpl a\\n',\n",
       " 'inc a\\n',\n",
       " 'tpl a\\n',\n",
       " 'inc a\\n',\n",
       " 'tpl a\\n',\n",
       " 'tpl a\\n',\n",
       " 'inc a\\n',\n",
       " 'inc a\\n',\n",
       " 'tpl a\\n',\n",
       " 'tpl a\\n',\n",
       " 'inc a\\n',\n",
       " 'inc a\\n',\n",
       " 'tpl a\\n',\n",
       " 'inc a\\n',\n",
       " 'inc a\\n',\n",
       " 'tpl a\\n',\n",
       " 'jmp +23\\n',\n",
       " 'tpl a\\n',\n",
       " 'tpl a\\n',\n",
       " 'inc a\\n',\n",
       " 'inc a\\n',\n",
       " 'tpl a\\n',\n",
       " 'inc a\\n',\n",
       " 'inc a\\n',\n",
       " 'tpl a\\n',\n",
       " 'inc a\\n',\n",
       " 'tpl a\\n',\n",
       " 'inc a\\n',\n",
       " 'tpl a\\n',\n",
       " 'inc a\\n',\n",
       " 'tpl a\\n',\n",
       " 'inc a\\n',\n",
       " 'inc a\\n',\n",
       " 'tpl a\\n',\n",
       " 'inc a\\n',\n",
       " 'inc a\\n',\n",
       " 'tpl a\\n',\n",
       " 'tpl a\\n',\n",
       " 'inc a\\n',\n",
       " 'jio a, +8\\n',\n",
       " 'inc b\\n',\n",
       " 'jie a, +4\\n',\n",
       " 'tpl a\\n',\n",
       " 'inc a\\n',\n",
       " 'jmp +2\\n',\n",
       " 'hlf a\\n',\n",
       " 'jmp -7\\n']"
      ]
     },
     "execution_count": 1,
     "metadata": {},
     "output_type": "execute_result"
    }
   ],
   "source": [
    "import re\n",
    "with open('input.txt') as f:\n",
    "    lines = f.readlines()\n",
    "lines"
   ]
  },
  {
   "cell_type": "code",
   "execution_count": 2,
   "id": "cultural-publisher",
   "metadata": {},
   "outputs": [
    {
     "data": {
      "text/plain": [
       "231"
      ]
     },
     "execution_count": 2,
     "metadata": {},
     "output_type": "execute_result"
    }
   ],
   "source": [
    "r = {\n",
    "    \"a\": 1,\n",
    "    \"b\": 0\n",
    "}\n",
    "i = 0\n",
    "\n",
    "while i < len(lines):\n",
    "    line = lines[i].strip()\n",
    "    ins, arg = line.split(\" \" , 1)\n",
    "    #print(ins, \"|\", arg)\n",
    "    \n",
    "    if ins == \"hlf\":\n",
    "        r[arg] = int(r[arg] / 2)\n",
    "    elif ins == \"tpl\":\n",
    "        r[arg] = int(r[arg] * 3)\n",
    "    elif ins == \"inc\":\n",
    "        r[arg] += 1\n",
    "    else:\n",
    "        if ins == \"jmp\":\n",
    "            i += int(arg)\n",
    "        else:\n",
    "            arg, offset = arg.split(\", \")\n",
    "            if ins == \"jie\":\n",
    "                if r[arg] % 2 == 0:\n",
    "                    i += int(offset)\n",
    "                else:\n",
    "                    i += 1\n",
    "            if ins == \"jio\":\n",
    "                if r[arg] == 1:\n",
    "                    i += int(offset)\n",
    "                else:\n",
    "                    i += 1\n",
    "        \n",
    "        continue\n",
    "        \n",
    "    #print(r[\"a\"])    \n",
    "    \n",
    "    i += 1\n",
    "\n",
    "r[\"b\"]"
   ]
  },
  {
   "cell_type": "code",
   "execution_count": null,
   "id": "ordered-commerce",
   "metadata": {},
   "outputs": [],
   "source": []
  }
 ],
 "metadata": {
  "kernelspec": {
   "display_name": "Python 3",
   "language": "python",
   "name": "python3"
  },
  "language_info": {
   "codemirror_mode": {
    "name": "ipython",
    "version": 3
   },
   "file_extension": ".py",
   "mimetype": "text/x-python",
   "name": "python",
   "nbconvert_exporter": "python",
   "pygments_lexer": "ipython3",
   "version": "3.9.1"
  }
 },
 "nbformat": 4,
 "nbformat_minor": 5
}
