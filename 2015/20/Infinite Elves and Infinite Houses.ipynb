{
 "cells": [
  {
   "cell_type": "code",
   "execution_count": 20,
   "id": "endless-mumbai",
   "metadata": {},
   "outputs": [],
   "source": [
    "import numpy as np\n",
    "\n",
    "inp = 34000000\n",
    "upper_bound = int(inp / 20) # Upperbound for the answer"
   ]
  },
  {
   "cell_type": "code",
   "execution_count": 21,
   "id": "vital-giant",
   "metadata": {},
   "outputs": [
    {
     "data": {
      "text/plain": [
       "786240"
      ]
     },
     "execution_count": 21,
     "metadata": {},
     "output_type": "execute_result"
    }
   ],
   "source": [
    "# Part 1\n",
    "houses = np.zeros(upper_bound)\n",
    "for i in range(1, len(houses)):\n",
    "    houses[np.arange(i, len(houses), i, dtype=int)] += 10*i\n",
    "    \n",
    "np.argmax(houses >= inp)"
   ]
  },
  {
   "cell_type": "code",
   "execution_count": 22,
   "id": "undefined-package",
   "metadata": {},
   "outputs": [
    {
     "data": {
      "text/plain": [
       "831600"
      ]
     },
     "execution_count": 22,
     "metadata": {},
     "output_type": "execute_result"
    }
   ],
   "source": [
    "# Part 2\n",
    "houses = np.zeros(upper_bound)\n",
    "for i in range(1, len(houses)):\n",
    "    houses[np.arange(i, np.min([i*51, len(houses)]), i, dtype=int)] += 11*i\n",
    "    \n",
    "np.argmax(houses >= inp)"
   ]
  }
 ],
 "metadata": {
  "kernelspec": {
   "display_name": "Python 3",
   "language": "python",
   "name": "python3"
  },
  "language_info": {
   "codemirror_mode": {
    "name": "ipython",
    "version": 3
   },
   "file_extension": ".py",
   "mimetype": "text/x-python",
   "name": "python",
   "nbconvert_exporter": "python",
   "pygments_lexer": "ipython3",
   "version": "3.9.1"
  }
 },
 "nbformat": 4,
 "nbformat_minor": 5
}
