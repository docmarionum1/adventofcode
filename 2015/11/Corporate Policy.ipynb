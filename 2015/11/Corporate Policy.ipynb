{
 "cells": [
  {
   "cell_type": "code",
   "execution_count": 1,
   "metadata": {},
   "outputs": [],
   "source": [
    "illegal = [ord('i'), ord('l'), ord('o')]\n",
    "\n",
    "def increment(a):\n",
    "    i = 0\n",
    "    while i < len(a):\n",
    "        a[len(a) - i - 1] += 1\n",
    "        if a[len(a) - i - 1] in illegal:\n",
    "            a[len(a) - i - 1] += 1\n",
    "        if a[len(a) - i - 1] > ord('z'):\n",
    "            a[len(a) - i - 1] = ord('a')\n",
    "            i += 1\n",
    "        else:\n",
    "            return\n",
    "        \n",
    "    a.insert(0, ord('a'))\n",
    "        \n",
    "\n",
    "def validate(a):\n",
    "    # String of 3\n",
    "    three = False\n",
    "    for i in range(len(a) - 2):\n",
    "        if (a[i] == (a[i+1] - 1)) and (a[i] == (a[i + 2] - 2)):\n",
    "            three = True\n",
    "            \n",
    "    if not three:\n",
    "        return False\n",
    "    \n",
    "    pairs = 0\n",
    "    i = 0\n",
    "    while i < (len(a) - 1):\n",
    "        if a[i] == a[i + 1]:\n",
    "            pairs += 1\n",
    "            i += 2\n",
    "        else:\n",
    "            i += 1\n",
    "            \n",
    "    return pairs >= 2"
   ]
  },
  {
   "cell_type": "code",
   "execution_count": 2,
   "metadata": {},
   "outputs": [
    {
     "data": {
      "text/plain": [
       "'vzbxxyzz'"
      ]
     },
     "execution_count": 2,
     "metadata": {},
     "output_type": "execute_result"
    }
   ],
   "source": [
    "# Part 1\n",
    "\n",
    "inp = 'vzbxkghb'\n",
    "inp = [ord(c) for c in inp]\n",
    "\n",
    "# Fix any initial illegal characters\n",
    "change = False\n",
    "for i in range(len(inp)):\n",
    "    if change:\n",
    "        inp[i] = ord('a')\n",
    "    else:\n",
    "        if inp[i] in illegal:\n",
    "            inp[i] += 1\n",
    "            change = True\n",
    "\n",
    "while not validate(inp):\n",
    "    increment(inp)\n",
    "\n",
    "''.join([chr(c) for c in inp])"
   ]
  },
  {
   "cell_type": "code",
   "execution_count": 3,
   "metadata": {},
   "outputs": [
    {
     "data": {
      "text/plain": [
       "'vzcaabcc'"
      ]
     },
     "execution_count": 3,
     "metadata": {},
     "output_type": "execute_result"
    }
   ],
   "source": [
    "# Part 2\n",
    "\n",
    "increment(inp)\n",
    "while not validate(inp):\n",
    "    increment(inp)\n",
    "\n",
    "''.join([chr(c) for c in inp])"
   ]
  },
  {
   "cell_type": "code",
   "execution_count": null,
   "metadata": {},
   "outputs": [],
   "source": []
  }
 ],
 "metadata": {
  "kernelspec": {
   "display_name": "Python 3",
   "language": "python",
   "name": "python3"
  },
  "language_info": {
   "codemirror_mode": {
    "name": "ipython",
    "version": 3
   },
   "file_extension": ".py",
   "mimetype": "text/x-python",
   "name": "python",
   "nbconvert_exporter": "python",
   "pygments_lexer": "ipython3",
   "version": "3.7.1"
  }
 },
 "nbformat": 4,
 "nbformat_minor": 2
}
