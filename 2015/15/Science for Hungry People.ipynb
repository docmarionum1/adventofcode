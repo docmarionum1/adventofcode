{
 "cells": [
  {
   "cell_type": "code",
   "execution_count": 1,
   "metadata": {},
   "outputs": [],
   "source": [
    "import random\n",
    "import re\n",
    "import numpy as np"
   ]
  },
  {
   "cell_type": "code",
   "execution_count": 2,
   "metadata": {},
   "outputs": [
    {
     "data": {
      "text/plain": [
       "['Sprinkles: capacity 2, durability 0, flavor -2, texture 0, calories 3\\n',\n",
       " 'Butterscotch: capacity 0, durability 5, flavor -3, texture 0, calories 3\\n',\n",
       " 'Chocolate: capacity 0, durability 0, flavor 5, texture -1, calories 8\\n',\n",
       " 'Candy: capacity 0, durability -1, flavor 0, texture 5, calories 8\\n']"
      ]
     },
     "execution_count": 2,
     "metadata": {},
     "output_type": "execute_result"
    }
   ],
   "source": [
    "with open('input.txt') as f:\n",
    "    lines = f.readlines()\n",
    "    \n",
    "# Test Input\n",
    "# lines = [\n",
    "#     'Butterscotch: capacity -1, durability -2, flavor 6, texture 3, calories 8\\n',\n",
    "#     'Cinnamon: capacity 2, durability 3, flavor -2, texture -1, calories 3\\n'\n",
    "# ]\n",
    "lines"
   ]
  },
  {
   "cell_type": "code",
   "execution_count": 3,
   "metadata": {},
   "outputs": [
    {
     "data": {
      "text/plain": [
       "([[2, 0, -2, 0, 3], [0, 5, -3, 0, 3], [0, 0, 5, -1, 8], [0, -1, 0, 5, 8]],\n",
       " array([25, 25, 25, 25]))"
      ]
     },
     "execution_count": 3,
     "metadata": {},
     "output_type": "execute_result"
    }
   ],
   "source": [
    "a = []\n",
    "for l in lines:\n",
    "    a.append([int(i) for i in re.match(r'.*: capacity (-?\\d+), durability (-?\\d+), flavor (-?\\d+), texture (-?\\d+), calories (-?\\d+)\\n', l).groups()])\n",
    "\n",
    "m = np.ones(len(a), dtype=int) * int(100 / len(a))\n",
    "a, m"
   ]
  },
  {
   "cell_type": "code",
   "execution_count": 4,
   "metadata": {},
   "outputs": [
    {
     "data": {
      "text/plain": [
       "21367368"
      ]
     },
     "execution_count": 4,
     "metadata": {},
     "output_type": "execute_result"
    }
   ],
   "source": [
    "# Part 1\n",
    "\n",
    "same_count = 0\n",
    "\n",
    "while True:\n",
    "    current_score = np.sum(np.array(a).T * m, axis=1)[:-1].prod()\n",
    "    new_m = np.copy(m)\n",
    "    inc, dec = random.sample(range(len(a)), 2)\n",
    "    new_m[inc] += 1\n",
    "    new_m[dec] -= 1\n",
    "    \n",
    "    new_score = np.sum(np.array(a).T * new_m, axis=1)[:-1].prod()\n",
    "    if new_score >= current_score:\n",
    "        m = new_m\n",
    "        same_count = 0\n",
    "    else:\n",
    "        same_count += 1\n",
    "        \n",
    "    if same_count > 25:\n",
    "        break\n",
    "\n",
    "np.sum(np.array(a).T * m, axis=1)[:-1].prod()"
   ]
  },
  {
   "cell_type": "code",
   "execution_count": 5,
   "metadata": {},
   "outputs": [
    {
     "data": {
      "text/plain": [
       "1766400"
      ]
     },
     "execution_count": 5,
     "metadata": {},
     "output_type": "execute_result"
    }
   ],
   "source": [
    "# Part 2\n",
    "\n",
    "m = np.array([25, 25, 25, 25])\n",
    "\n",
    "same_count = 0\n",
    "\n",
    "def fiddle(m):\n",
    "    new_m = np.copy(m)\n",
    "    \n",
    "    for i in range(1):\n",
    "        inc, dec = random.sample(range(len(a)), 2)\n",
    "        if new_m[dec] > 1:\n",
    "            new_m[inc] += 1\n",
    "            new_m[dec] -= 1\n",
    "        \n",
    "    calories = np.sum(np.array(a).T * new_m, axis=1)[-1]\n",
    "    while calories != 500:\n",
    "        inc, dec = random.sample(range(len(a)), 2)\n",
    "        if new_m[dec] > 1:\n",
    "            if abs(calories + a[inc][-1] - a[dec][-1] - 500) < abs(calories - 500):\n",
    "                new_m[inc] += 1\n",
    "                new_m[dec] -= 1\n",
    "                calories = np.sum(np.array(a).T * new_m, axis=1)[-1]\n",
    "        \n",
    "    return new_m\n",
    "\n",
    "while True:\n",
    "    current_score = np.maximum(np.sum(np.array(a).T * m, axis=1), 0)[:-1].prod()\n",
    "    new_m = fiddle(m)\n",
    "    new_score = np.maximum(np.sum(np.array(a).T * new_m, axis=1), 0)[:-1].prod()\n",
    "    \n",
    "    if new_score >= current_score:\n",
    "        m = new_m\n",
    "        same_count = 0\n",
    "    else:\n",
    "        same_count += 1\n",
    "        \n",
    "    if same_count > 25:\n",
    "        break\n",
    "\n",
    "np.maximum(np.sum(np.array(a).T * m, axis=1), 0)[:-1].prod()"
   ]
  },
  {
   "cell_type": "code",
   "execution_count": null,
   "metadata": {},
   "outputs": [],
   "source": []
  }
 ],
 "metadata": {
  "kernelspec": {
   "display_name": "Python 3",
   "language": "python",
   "name": "python3"
  },
  "language_info": {
   "codemirror_mode": {
    "name": "ipython",
    "version": 3
   },
   "file_extension": ".py",
   "mimetype": "text/x-python",
   "name": "python",
   "nbconvert_exporter": "python",
   "pygments_lexer": "ipython3",
   "version": "3.7.1"
  }
 },
 "nbformat": 4,
 "nbformat_minor": 2
}
