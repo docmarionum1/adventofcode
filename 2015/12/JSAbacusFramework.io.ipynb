{
 "cells": [
  {
   "cell_type": "code",
   "execution_count": 1,
   "metadata": {},
   "outputs": [],
   "source": [
    "import json"
   ]
  },
  {
   "cell_type": "code",
   "execution_count": 2,
   "metadata": {},
   "outputs": [
    {
     "data": {
      "text/plain": [
       "156366"
      ]
     },
     "execution_count": 2,
     "metadata": {},
     "output_type": "execute_result"
    }
   ],
   "source": [
    "# Part 1\n",
    "\n",
    "total_sum = 0\n",
    "\n",
    "def parse_int(s):\n",
    "    global total_sum\n",
    "    i = int(s)\n",
    "    total_sum += i\n",
    "    return i\n",
    "\n",
    "class Decoder(json.JSONDecoder):\n",
    "    def __init__(self, *args, **kwargs):\n",
    "        json.JSONDecoder.__init__(self, *args, parse_int=parse_int, **kwargs)\n",
    "\n",
    "doc = json.load(open('input.txt'), cls=Decoder)\n",
    "\n",
    "total_sum"
   ]
  },
  {
   "cell_type": "code",
   "execution_count": 3,
   "metadata": {},
   "outputs": [
    {
     "data": {
      "text/plain": [
       "96852"
      ]
     },
     "execution_count": 3,
     "metadata": {},
     "output_type": "execute_result"
    }
   ],
   "source": [
    "# Part 2\n",
    "\n",
    "def visit_list(l):\n",
    "    s = 0\n",
    "    \n",
    "    for o in l:\n",
    "        if isinstance(o, int):\n",
    "            s += o\n",
    "        if isinstance(o, list):\n",
    "            s += visit_list(o)\n",
    "        if isinstance(o, dict):\n",
    "            s += visit_dict(o)\n",
    "            \n",
    "    return s\n",
    "\n",
    "def visit_dict(d):\n",
    "    s = 0\n",
    "    \n",
    "    for o in d.values():\n",
    "        if isinstance(o, int):\n",
    "            s += o\n",
    "        if isinstance(o, list):\n",
    "            s += visit_list(o)\n",
    "        if isinstance(o, dict):\n",
    "            s += visit_dict(o)\n",
    "        if isinstance(o, str):\n",
    "            if o == \"red\":\n",
    "                return 0\n",
    "            \n",
    "    return s\n",
    "\n",
    "visit_list(doc)"
   ]
  },
  {
   "cell_type": "code",
   "execution_count": null,
   "metadata": {},
   "outputs": [],
   "source": []
  }
 ],
 "metadata": {
  "kernelspec": {
   "display_name": "Python 3",
   "language": "python",
   "name": "python3"
  },
  "language_info": {
   "codemirror_mode": {
    "name": "ipython",
    "version": 3
   },
   "file_extension": ".py",
   "mimetype": "text/x-python",
   "name": "python",
   "nbconvert_exporter": "python",
   "pygments_lexer": "ipython3",
   "version": "3.7.1"
  }
 },
 "nbformat": 4,
 "nbformat_minor": 2
}
