{
 "cells": [
  {
   "cell_type": "code",
   "execution_count": 1,
   "id": "spatial-speaking",
   "metadata": {},
   "outputs": [],
   "source": [
    "import itertools\n",
    "import math"
   ]
  },
  {
   "cell_type": "code",
   "execution_count": 2,
   "id": "strong-bahamas",
   "metadata": {},
   "outputs": [],
   "source": [
    "class Character:\n",
    "    def __init__(self, hp, damage, defense):\n",
    "        self.hp = hp\n",
    "        self.damage = damage\n",
    "        self.defense = defense\n",
    "        \n",
    "        self.weapon = None\n",
    "        self.armor = None\n",
    "        self.rings = []\n",
    "        \n",
    "    def total_damage(self):\n",
    "        return (\n",
    "            self.damage + \n",
    "            (self.weapon.damage if self.weapon else 0) +\n",
    "            sum([r.damage for r in self.rings])\n",
    "        )\n",
    "    \n",
    "    def total_defense(self):\n",
    "        return (\n",
    "            self.defense + \n",
    "            (self.armor.defense if self.armor else 0) +\n",
    "            sum([r.defense for r in self.rings])\n",
    "        )\n",
    "    \n",
    "    def total_cost(self):\n",
    "        return (\n",
    "            (self.weapon.cost if self.weapon else 0) +\n",
    "            (self.armor.cost if self.armor else 0) +\n",
    "            sum([r.cost for r in self.rings])\n",
    "        )\n",
    "        \n",
    "boss = Character(104, 8, 1)\n",
    "\n",
    "class Item:\n",
    "    def __init__(self, kind, cost, damage, defense):\n",
    "        self.kind = kind\n",
    "        self.cost = cost\n",
    "        self.damage = damage\n",
    "        self.defense = defense\n",
    "        \n",
    "    def __repr__(self):\n",
    "        return f\"{self.kind} {self.cost} {self.damage} {self.defense}\"\n",
    "        \n",
    "items = [\n",
    "    Item('weapon', 8, 4, 0),\n",
    "    Item('weapon', 10, 5, 0),\n",
    "    Item('weapon', 25, 6, 0),\n",
    "    Item('weapon', 40, 7, 0),\n",
    "    Item('weapon', 74, 8, 0),\n",
    "    \n",
    "    Item('armor', 13, 0, 1),\n",
    "    Item('armor', 31, 0, 2),\n",
    "    Item('armor', 53, 0, 3),\n",
    "    Item('armor', 75, 0, 4),\n",
    "    Item('armor', 102, 0, 5),\n",
    "    \n",
    "    Item('ring', 25, 1, 0),\n",
    "    Item('ring', 50, 2, 0),\n",
    "    Item('ring', 100, 3, 0),\n",
    "    Item('ring', 20, 0, 1),\n",
    "    Item('ring', 40, 0, 2),\n",
    "    Item('ring', 80, 0, 3),\n",
    "]"
   ]
  },
  {
   "cell_type": "code",
   "execution_count": 3,
   "id": "center-austin",
   "metadata": {},
   "outputs": [],
   "source": [
    "ring_choices = (\n",
    "    [[]] + \n",
    "    list(itertools.combinations([i for i in items if i.kind == \"ring\"], 1)) + \n",
    "    list(itertools.combinations([i for i in items if i.kind == \"ring\"], 2))\n",
    ")\n",
    "armor_choices = [None] + [i for i in items if i.kind == \"armor\"]\n",
    "weapon_choices = [i for i in items if i.kind == \"weapon\"]"
   ]
  },
  {
   "cell_type": "code",
   "execution_count": 4,
   "id": "equal-workstation",
   "metadata": {},
   "outputs": [
    {
     "data": {
      "text/plain": [
       "78"
      ]
     },
     "execution_count": 4,
     "metadata": {},
     "output_type": "execute_result"
    }
   ],
   "source": [
    "def player_wins(player, debug=False):\n",
    "    player_damage = max(1, player.total_damage() - boss.total_defense())\n",
    "    turns_to_kill_boss = boss.hp / player_damage\n",
    "    \n",
    "    boss_damage = max(1, boss.total_damage() - player.total_defense())\n",
    "    turns_to_die = player.hp / boss_damage\n",
    "    \n",
    "    if debug:\n",
    "        print(player_damage, turns_to_kill_boss, boss_damage, turns_to_die)\n",
    "    \n",
    "    return math.ceil(turns_to_kill_boss) <= math.ceil(turns_to_die)\n",
    "\n",
    "min_cost = 999\n",
    "for rings, armor, weapon in itertools.product(ring_choices, armor_choices, weapon_choices):\n",
    "    player = Character(100, 0, 0)\n",
    "    player.rings = rings\n",
    "    player.armor = armor\n",
    "    player.weapon = weapon\n",
    "    \n",
    "    if player_wins(player):\n",
    "        if player.total_cost() < min_cost:\n",
    "            min_cost = player.total_cost()\n",
    "            \n",
    "min_cost"
   ]
  },
  {
   "cell_type": "code",
   "execution_count": 5,
   "id": "turkish-intersection",
   "metadata": {},
   "outputs": [
    {
     "data": {
      "text/plain": [
       "148"
      ]
     },
     "execution_count": 5,
     "metadata": {},
     "output_type": "execute_result"
    }
   ],
   "source": [
    "max_cost = 0\n",
    "for rings, armor, weapon in itertools.product(ring_choices, armor_choices, weapon_choices):\n",
    "    player = Character(100, 0, 0)\n",
    "    player.rings = rings\n",
    "    player.armor = armor\n",
    "    player.weapon = weapon\n",
    "    \n",
    "    if not player_wins(player):\n",
    "        if player.total_cost() > max_cost:\n",
    "            max_cost = player.total_cost()\n",
    "            \n",
    "max_cost"
   ]
  },
  {
   "cell_type": "code",
   "execution_count": null,
   "id": "under-transformation",
   "metadata": {},
   "outputs": [],
   "source": []
  }
 ],
 "metadata": {
  "kernelspec": {
   "display_name": "Python 3",
   "language": "python",
   "name": "python3"
  },
  "language_info": {
   "codemirror_mode": {
    "name": "ipython",
    "version": 3
   },
   "file_extension": ".py",
   "mimetype": "text/x-python",
   "name": "python",
   "nbconvert_exporter": "python",
   "pygments_lexer": "ipython3",
   "version": "3.9.1"
  }
 },
 "nbformat": 4,
 "nbformat_minor": 5
}
